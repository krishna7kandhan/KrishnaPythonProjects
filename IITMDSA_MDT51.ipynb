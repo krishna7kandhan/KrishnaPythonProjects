{
  "cells": [
    {
      "cell_type": "markdown",
      "metadata": {
        "id": "view-in-github",
        "colab_type": "text"
      },
      "source": [
        "<a href=\"https://colab.research.google.com/github/krishna7kandhan/KrishnaPythonProjects/blob/main/IITMDSA_MDT51.ipynb\" target=\"_parent\"><img src=\"https://colab.research.google.com/assets/colab-badge.svg\" alt=\"Open In Colab\"/></a>"
      ]
    },
    {
      "cell_type": "markdown",
      "source": [
        "# [Google Drive](https://drive.google.com/drive/folders/1wv-L14VMLmAYTeBCNSgsGdzWcVocc8NU?usp=sharing)\n"
      ],
      "metadata": {
        "id": "UZQ53espWHqI"
      },
      "id": "UZQ53espWHqI"
    },
    {
      "cell_type": "markdown",
      "source": [],
      "metadata": {
        "id": "bhl5MzYaXHBF"
      },
      "id": "bhl5MzYaXHBF"
    },
    {
      "cell_type": "markdown",
      "source": [
        "# Module-1 Python Basics"
      ],
      "metadata": {
        "id": "0UJCfIa9XM3A"
      },
      "id": "0UJCfIa9XM3A"
    },
    {
      "cell_type": "markdown",
      "id": "6aab2a26",
      "metadata": {
        "id": "6aab2a26"
      },
      "source": [
        "## Variable"
      ]
    },
    {
      "cell_type": "code",
      "execution_count": null,
      "id": "ba64b8b6",
      "metadata": {
        "id": "ba64b8b6"
      },
      "outputs": [],
      "source": [
        "A=10\n",
        "B=\"Hello Guvi\"\n",
        "C=[1,2,3,4]"
      ]
    },
    {
      "cell_type": "code",
      "execution_count": null,
      "id": "f8c17849",
      "metadata": {
        "id": "f8c17849",
        "outputId": "841c23e9-0ed2-4694-edbc-9907b39382f1"
      },
      "outputs": [
        {
          "name": "stdout",
          "output_type": "stream",
          "text": [
            "10\n"
          ]
        }
      ],
      "source": [
        "print(A)"
      ]
    },
    {
      "cell_type": "code",
      "execution_count": null,
      "id": "b22d2d5d",
      "metadata": {
        "id": "b22d2d5d"
      },
      "outputs": [],
      "source": [
        "user_name=\"Aravind\""
      ]
    },
    {
      "cell_type": "code",
      "execution_count": null,
      "id": "8851fac3",
      "metadata": {
        "id": "8851fac3"
      },
      "outputs": [],
      "source": [
        "user_1=\"Aravind\""
      ]
    },
    {
      "cell_type": "code",
      "execution_count": null,
      "id": "57ece54f",
      "metadata": {
        "id": "57ece54f"
      },
      "outputs": [],
      "source": [
        "User=\"Aravind\""
      ]
    },
    {
      "cell_type": "code",
      "execution_count": null,
      "id": "987442f2",
      "metadata": {
        "id": "987442f2",
        "outputId": "c6bd1178-771a-4971-9feb-20059f28ead7"
      },
      "outputs": [
        {
          "name": "stdout",
          "output_type": "stream",
          "text": [
            "40\n"
          ]
        }
      ],
      "source": [
        "A=10         #Axt123\n",
        "\n",
        "a=30         #Axt124\n",
        "\n",
        "\n",
        "print(A+a)"
      ]
    },
    {
      "cell_type": "markdown",
      "id": "94a032f4",
      "metadata": {
        "id": "94a032f4"
      },
      "source": [
        "## Data Types"
      ]
    },
    {
      "cell_type": "code",
      "execution_count": null,
      "id": "466a151d",
      "metadata": {
        "id": "466a151d"
      },
      "outputs": [],
      "source": [
        "Name =\"Sai\"   # String\n",
        "Age= 25       # Int\n",
        "Height=5.6    # Float\n",
        "Exam_Result= True #True /False Bool\n",
        "\n",
        "\n",
        "Mail=\" Sai123@gmail.com\"\n",
        "#Adhar # Int\n",
        "#Pan # String\n",
        "#Bank Acc  # Int\n",
        "Ip = \"169.567.68.58\"\n",
        "\n",
        "Passport=None"
      ]
    },
    {
      "cell_type": "code",
      "execution_count": null,
      "id": "12e7b2dc",
      "metadata": {
        "id": "12e7b2dc",
        "outputId": "57db27c3-1cf1-4be7-f98e-eee6ece5ae6e"
      },
      "outputs": [
        {
          "name": "stdout",
          "output_type": "stream",
          "text": [
            "None\n"
          ]
        }
      ],
      "source": [
        "print(Passport)"
      ]
    },
    {
      "cell_type": "markdown",
      "id": "1e09056d",
      "metadata": {
        "id": "1e09056d"
      },
      "source": [
        "## Data Structure"
      ]
    },
    {
      "cell_type": "code",
      "execution_count": null,
      "id": "f5201474",
      "metadata": {
        "id": "f5201474"
      },
      "outputs": [],
      "source": [
        "# List\n",
        "# Tuple\n",
        "# Set\n",
        "# Dict\n",
        "\n",
        "\n",
        "\n"
      ]
    },
    {
      "cell_type": "markdown",
      "id": "901bacf9",
      "metadata": {
        "id": "901bacf9"
      },
      "source": [
        "## List"
      ]
    },
    {
      "cell_type": "code",
      "execution_count": null,
      "id": "a5c51cfc",
      "metadata": {
        "id": "a5c51cfc"
      },
      "outputs": [],
      "source": [
        "L=[10,\"Guvi\",3.56,True,[1,2,3,4], \"Guvi\"]   # List Can Store All Data types and Data Structure, List Can Mutable , Duplicate Accepted\n",
        "\n",
        "  # 0   1      2    3      4         5"
      ]
    },
    {
      "cell_type": "code",
      "execution_count": null,
      "id": "80f5fe97",
      "metadata": {
        "id": "80f5fe97",
        "outputId": "23c18792-7a50-43af-8104-a0bc36d3fa96"
      },
      "outputs": [
        {
          "data": {
            "text/plain": [
              "3.56"
            ]
          },
          "execution_count": 23,
          "metadata": {},
          "output_type": "execute_result"
        }
      ],
      "source": [
        "L[2]"
      ]
    },
    {
      "cell_type": "code",
      "execution_count": null,
      "id": "dc83b718",
      "metadata": {
        "id": "dc83b718",
        "outputId": "337b9edb-96f2-4454-f975-1c2fca9ed593"
      },
      "outputs": [
        {
          "data": {
            "text/plain": [
              "'Guvi'"
            ]
          },
          "execution_count": 24,
          "metadata": {},
          "output_type": "execute_result"
        }
      ],
      "source": [
        "L[1]"
      ]
    },
    {
      "cell_type": "code",
      "execution_count": null,
      "id": "bdfc8f54",
      "metadata": {
        "id": "bdfc8f54",
        "outputId": "0f452a73-3952-401b-e4c2-af207468abd7"
      },
      "outputs": [
        {
          "data": {
            "text/plain": [
              "[1, 2, 3, 4]"
            ]
          },
          "execution_count": 27,
          "metadata": {},
          "output_type": "execute_result"
        }
      ],
      "source": [
        "L[4]\n"
      ]
    },
    {
      "cell_type": "code",
      "execution_count": null,
      "id": "3a11df5d",
      "metadata": {
        "id": "3a11df5d",
        "outputId": "cbd5d6f7-bb5b-4637-a246-3df556d45f9f"
      },
      "outputs": [
        {
          "data": {
            "text/plain": [
              "3"
            ]
          },
          "execution_count": 26,
          "metadata": {},
          "output_type": "execute_result"
        }
      ],
      "source": [
        "L[4][2]"
      ]
    },
    {
      "cell_type": "code",
      "execution_count": null,
      "id": "6903489e",
      "metadata": {
        "id": "6903489e",
        "outputId": "5071c22d-a5bb-4e17-937d-53217ef82fa1"
      },
      "outputs": [
        {
          "data": {
            "text/plain": [
              "'Guvi'"
            ]
          },
          "execution_count": 30,
          "metadata": {},
          "output_type": "execute_result"
        }
      ],
      "source": [
        "L[1]"
      ]
    },
    {
      "cell_type": "code",
      "execution_count": null,
      "id": "4fc83bd4",
      "metadata": {
        "id": "4fc83bd4",
        "outputId": "0f2509b1-00c4-4abe-f481-14df5710e7a3"
      },
      "outputs": [
        {
          "data": {
            "text/plain": [
              "'u'"
            ]
          },
          "execution_count": 31,
          "metadata": {},
          "output_type": "execute_result"
        }
      ],
      "source": [
        "L[1][1]"
      ]
    },
    {
      "cell_type": "code",
      "execution_count": null,
      "id": "6eb5247e",
      "metadata": {
        "id": "6eb5247e",
        "outputId": "8a0cf8c1-f123-4e20-9f4f-e3c37bcbf54d"
      },
      "outputs": [
        {
          "data": {
            "text/plain": [
              "[1, 2, 3, 4, 5, 6, 7, 8, 9, 10]"
            ]
          },
          "execution_count": 32,
          "metadata": {},
          "output_type": "execute_result"
        }
      ],
      "source": [
        "L2=[1,2,3,4,5,6,7,8,9,10]\n",
        "L2"
      ]
    },
    {
      "cell_type": "code",
      "execution_count": null,
      "id": "4df913e4",
      "metadata": {
        "id": "4df913e4",
        "outputId": "9d5e369d-d0b6-48f6-95b1-09a3c1729f0d"
      },
      "outputs": [
        {
          "data": {
            "text/plain": [
              "9"
            ]
          },
          "execution_count": 37,
          "metadata": {},
          "output_type": "execute_result"
        }
      ],
      "source": [
        "L2[-2]"
      ]
    },
    {
      "cell_type": "code",
      "execution_count": null,
      "id": "a4cb4eea",
      "metadata": {
        "id": "a4cb4eea",
        "outputId": "0426b1bc-1b2a-4078-a736-492b7f780c1b"
      },
      "outputs": [
        {
          "data": {
            "text/plain": [
              "[1, 2, 3, 4, 5]"
            ]
          },
          "execution_count": 39,
          "metadata": {},
          "output_type": "execute_result"
        }
      ],
      "source": [
        "L2[0:5]"
      ]
    },
    {
      "cell_type": "code",
      "execution_count": null,
      "id": "3c6a871b",
      "metadata": {
        "id": "3c6a871b",
        "outputId": "c34d806b-97fe-4fd3-d9b5-b95ab4eda9fc"
      },
      "outputs": [
        {
          "data": {
            "text/plain": [
              "[4, 5, 6, 7, 8]"
            ]
          },
          "execution_count": 40,
          "metadata": {},
          "output_type": "execute_result"
        }
      ],
      "source": [
        "L2[3:8]"
      ]
    },
    {
      "cell_type": "code",
      "execution_count": null,
      "id": "c2b0df9f",
      "metadata": {
        "id": "c2b0df9f",
        "outputId": "db516cc9-759e-408b-eb41-50aa45fd5fab"
      },
      "outputs": [
        {
          "data": {
            "text/plain": [
              "[4, 6, 8]"
            ]
          },
          "execution_count": 44,
          "metadata": {},
          "output_type": "execute_result"
        }
      ],
      "source": [
        "L2[3:8:2]"
      ]
    },
    {
      "cell_type": "code",
      "execution_count": null,
      "id": "522efedf",
      "metadata": {
        "id": "522efedf",
        "outputId": "7257e81d-0e00-4903-b466-160ddc09f299"
      },
      "outputs": [
        {
          "data": {
            "text/plain": [
              "[4, 7]"
            ]
          },
          "execution_count": 45,
          "metadata": {},
          "output_type": "execute_result"
        }
      ],
      "source": [
        "L2[3:8:3]"
      ]
    },
    {
      "cell_type": "code",
      "execution_count": null,
      "id": "9912dae1",
      "metadata": {
        "id": "9912dae1",
        "outputId": "5e9e0cd4-5277-4232-e613-ef285ac36d4a"
      },
      "outputs": [
        {
          "data": {
            "text/plain": [
              "['A', 'B', 'C', 'D', 'E', 'F', 'G', 'H', 'I']"
            ]
          },
          "execution_count": 46,
          "metadata": {},
          "output_type": "execute_result"
        }
      ],
      "source": [
        "Box=[\"A\",\"B\",\"C\",\"D\",\"E\",\"F\",\"G\",\"H\",\"I\"]\n",
        "Box"
      ]
    },
    {
      "cell_type": "code",
      "execution_count": null,
      "id": "0264645c",
      "metadata": {
        "id": "0264645c",
        "outputId": "98dd02a1-087d-4573-fea8-88415655d7bd"
      },
      "outputs": [
        {
          "data": {
            "text/plain": [
              "9"
            ]
          },
          "execution_count": 51,
          "metadata": {},
          "output_type": "execute_result"
        }
      ],
      "source": [
        "len(Box)"
      ]
    },
    {
      "cell_type": "code",
      "execution_count": null,
      "id": "2698df8f",
      "metadata": {
        "id": "2698df8f",
        "outputId": "6cadd173-c805-4a92-8346-66000908d333"
      },
      "outputs": [
        {
          "data": {
            "text/plain": [
              "['A', 'B', 'C', 'D', 'E', 'F', 'G', 'H', 'I']"
            ]
          },
          "execution_count": 57,
          "metadata": {},
          "output_type": "execute_result"
        }
      ],
      "source": [
        "Box[0:9:1]  #Start Stop Step"
      ]
    },
    {
      "cell_type": "code",
      "execution_count": null,
      "id": "950af4b6",
      "metadata": {
        "id": "950af4b6",
        "outputId": "8efbbf6b-1997-4344-93fe-0151d48c506b"
      },
      "outputs": [
        {
          "data": {
            "text/plain": [
              "['A', 'C', 'E', 'G', 'I']"
            ]
          },
          "execution_count": 56,
          "metadata": {},
          "output_type": "execute_result"
        }
      ],
      "source": [
        "Box[0:9:2]"
      ]
    },
    {
      "cell_type": "code",
      "execution_count": null,
      "id": "08f2a6dc",
      "metadata": {
        "id": "08f2a6dc",
        "outputId": "ec8fcf3d-f6f2-4a9f-ee23-1e6b21fbd5ce"
      },
      "outputs": [
        {
          "data": {
            "text/plain": [
              "['A', 'D', 'G']"
            ]
          },
          "execution_count": 58,
          "metadata": {},
          "output_type": "execute_result"
        }
      ],
      "source": [
        "Box[0:9:3]"
      ]
    },
    {
      "cell_type": "code",
      "execution_count": null,
      "id": "7330b034",
      "metadata": {
        "id": "7330b034",
        "outputId": "8fa3cc80-4abb-42b8-91d0-0c9eefb91635"
      },
      "outputs": [
        {
          "data": {
            "text/plain": [
              "['C', 'E', 'G']"
            ]
          },
          "execution_count": 59,
          "metadata": {},
          "output_type": "execute_result"
        }
      ],
      "source": [
        "Box[2:7:2]   # C , E, G"
      ]
    },
    {
      "cell_type": "code",
      "execution_count": null,
      "id": "3dbb5546",
      "metadata": {
        "id": "3dbb5546",
        "outputId": "19336916-fbc7-4ca1-af3b-8a370d4c5054"
      },
      "outputs": [
        {
          "data": {
            "text/plain": [
              "['C', 'E', 'G']"
            ]
          },
          "execution_count": 62,
          "metadata": {},
          "output_type": "execute_result"
        }
      ],
      "source": [
        "Box[-7:-2:2]"
      ]
    },
    {
      "cell_type": "code",
      "execution_count": null,
      "id": "75105878",
      "metadata": {
        "id": "75105878"
      },
      "outputs": [],
      "source": []
    }
  ],
  "metadata": {
    "kernelspec": {
      "display_name": ".venv",
      "language": "python",
      "name": "python3"
    },
    "language_info": {
      "codemirror_mode": {
        "name": "ipython",
        "version": 3
      },
      "file_extension": ".py",
      "mimetype": "text/x-python",
      "name": "python",
      "nbconvert_exporter": "python",
      "pygments_lexer": "ipython3",
      "version": "3.9.6"
    },
    "colab": {
      "provenance": [],
      "toc_visible": true,
      "include_colab_link": true
    }
  },
  "nbformat": 4,
  "nbformat_minor": 5
}