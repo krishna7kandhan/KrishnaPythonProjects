{
 "cells": [
  {
   "cell_type": "markdown",
   "id": "9c9eecc8",
   "metadata": {},
   "source": [
    "20250713 PHONEPAY \n"
   ]
  },
  {
   "cell_type": "code",
   "execution_count": 1,
   "id": "8e834d2a",
   "metadata": {},
   "outputs": [
    {
     "name": "stderr",
     "output_type": "stream",
     "text": [
      "Cloning into 'pulse'...\n",
      "Updating files:  34% (3079/9029)\n",
      "Updating files:  35% (3161/9029)\n",
      "Updating files:  36% (3251/9029)\n",
      "Updating files:  37% (3341/9029)\n",
      "Updating files:  38% (3432/9029)\n",
      "Updating files:  39% (3522/9029)\n",
      "Updating files:  40% (3612/9029)\n",
      "Updating files:  41% (3702/9029)\n",
      "Updating files:  42% (3793/9029)\n",
      "Updating files:  43% (3883/9029)\n",
      "Updating files:  44% (3973/9029)\n",
      "Updating files:  45% (4064/9029)\n",
      "Updating files:  46% (4154/9029)\n",
      "Updating files:  47% (4244/9029)\n",
      "Updating files:  48% (4334/9029)\n",
      "Updating files:  49% (4425/9029)\n",
      "Updating files:  50% (4515/9029)\n",
      "Updating files:  51% (4605/9029)\n",
      "Updating files:  52% (4696/9029)\n",
      "Updating files:  53% (4786/9029)\n",
      "Updating files:  54% (4876/9029)\n",
      "Updating files:  55% (4966/9029)\n",
      "Updating files:  56% (5057/9029)\n",
      "Updating files:  57% (5147/9029)\n",
      "Updating files:  58% (5237/9029)\n",
      "Updating files:  59% (5328/9029)\n",
      "Updating files:  59% (5386/9029)\n",
      "Updating files:  60% (5418/9029)\n",
      "Updating files:  61% (5508/9029)\n",
      "Updating files:  62% (5598/9029)\n",
      "Updating files:  63% (5689/9029)\n",
      "Updating files:  64% (5779/9029)\n",
      "Updating files:  65% (5869/9029)\n",
      "Updating files:  66% (5960/9029)\n",
      "Updating files:  67% (6050/9029)\n",
      "Updating files:  68% (6140/9029)\n",
      "Updating files:  69% (6231/9029)\n",
      "Updating files:  70% (6321/9029)\n",
      "Updating files:  71% (6411/9029)\n",
      "Updating files:  72% (6501/9029)\n",
      "Updating files:  73% (6592/9029)\n",
      "Updating files:  74% (6682/9029)\n",
      "Updating files:  75% (6772/9029)\n",
      "Updating files:  76% (6863/9029)\n",
      "Updating files:  77% (6953/9029)\n",
      "Updating files:  78% (7043/9029)\n",
      "Updating files:  79% (7133/9029)\n",
      "Updating files:  80% (7224/9029)\n",
      "Updating files:  81% (7314/9029)\n",
      "Updating files:  82% (7404/9029)\n",
      "Updating files:  83% (7495/9029)\n",
      "Updating files:  84% (7585/9029)\n",
      "Updating files:  85% (7675/9029)\n",
      "Updating files:  86% (7765/9029)\n",
      "Updating files:  87% (7856/9029)\n",
      "Updating files:  88% (7946/9029)\n",
      "Updating files:  89% (8036/9029)\n",
      "Updating files:  90% (8127/9029)\n",
      "Updating files:  91% (8217/9029)\n",
      "Updating files:  92% (8307/9029)\n",
      "Updating files:  93% (8397/9029)\n",
      "Updating files:  94% (8488/9029)\n",
      "Updating files:  95% (8578/9029)\n",
      "Updating files:  96% (8668/9029)\n",
      "Updating files:  97% (8759/9029)\n",
      "Updating files:  98% (8849/9029)\n",
      "Updating files:  99% (8939/9029)\n",
      "Updating files: 100% (9029/9029)\n",
      "Updating files: 100% (9029/9029), done.\n"
     ]
    }
   ],
   "source": [
    "!git clone https://github.com/PhonePe/pulse.git\n"
   ]
  }
 ],
 "metadata": {
  "kernelspec": {
   "display_name": "Python 3",
   "language": "python",
   "name": "python3"
  },
  "language_info": {
   "codemirror_mode": {
    "name": "ipython",
    "version": 3
   },
   "file_extension": ".py",
   "mimetype": "text/x-python",
   "name": "python",
   "nbconvert_exporter": "python",
   "pygments_lexer": "ipython3",
   "version": "3.12.10"
  }
 },
 "nbformat": 4,
 "nbformat_minor": 5
}
