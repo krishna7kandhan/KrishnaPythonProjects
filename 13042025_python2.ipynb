{
 "cells": [
  {
   "cell_type": "code",
   "execution_count": 1,
   "id": "fbdcf7f9",
   "metadata": {},
   "outputs": [
    {
     "name": "stdout",
     "output_type": "stream",
     "text": [
      "Hello World\n",
      "Python class 2 - 13042025\n"
     ]
    }
   ],
   "source": [
    "print (\"Hello World\")\n",
    "print (\"Python class 2 - 13042025\")"
   ]
  },
  {
   "cell_type": "code",
   "execution_count": 2,
   "id": "442862a6",
   "metadata": {},
   "outputs": [
    {
     "name": "stdout",
     "output_type": "stream",
     "text": [
      "Python class 3 - 19042025\n"
     ]
    }
   ],
   "source": [
    "print (\"Python class 3 - 19042025\")"
   ]
  }
 ],
 "metadata": {
  "kernelspec": {
   "display_name": "Python 3",
   "language": "python",
   "name": "python3"
  },
  "language_info": {
   "codemirror_mode": {
    "name": "ipython",
    "version": 3
   },
   "file_extension": ".py",
   "mimetype": "text/x-python",
   "name": "python",
   "nbconvert_exporter": "python",
   "pygments_lexer": "ipython3",
   "version": "3.12.10"
  }
 },
 "nbformat": 4,
 "nbformat_minor": 5
}
